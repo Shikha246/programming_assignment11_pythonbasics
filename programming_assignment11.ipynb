{
 "cells": [
  {
   "cell_type": "markdown",
   "id": "ac67a7c3",
   "metadata": {},
   "source": [
    "## 1. Write a Python program to find words which are greater than given length k?"
   ]
  },
  {
   "cell_type": "code",
   "execution_count": 12,
   "id": "bccda69d",
   "metadata": {},
   "outputs": [
    {
     "name": "stdout",
     "output_type": "stream",
     "text": [
      "Enter a string:hi my name is shikha\n",
      "Enter the length :3\n",
      "name shikha \n"
     ]
    }
   ],
   "source": [
    "my_string=input(\"Enter a string:\")\n",
    "k=int(input(\"Enter the length :\"))\n",
    "string=\"\"\n",
    "word= my_string.split(\" \")\n",
    "for i in word:\n",
    "    if len(i)>=k:\n",
    "        string=string+i+\" \"\n",
    "    \n",
    "print(string)\n",
    "        "
   ]
  },
  {
   "cell_type": "markdown",
   "id": "94867390",
   "metadata": {},
   "source": [
    "## 2. Write a Python program for removing i-th character from a string?"
   ]
  },
  {
   "cell_type": "code",
   "execution_count": 17,
   "id": "0e230a65",
   "metadata": {},
   "outputs": [
    {
     "name": "stdout",
     "output_type": "stream",
     "text": [
      "Enter a string:hi my name is shikha\n",
      "Enter the ith character within the range:1 to 20:4\n",
      "hi m name is shikha\n"
     ]
    }
   ],
   "source": [
    "my_string=input(\"Enter a string:\")\n",
    "r=len(my_string)\n",
    "k= int(input(f\"Enter the ith character within the range:1 to {r}:\"))\n",
    "\n",
    "a=my_string[:k]\n",
    "b=my_string[k+1 :]\n",
    "c=a+b\n",
    "print(c)\n",
    "        "
   ]
  },
  {
   "cell_type": "markdown",
   "id": "8281803e",
   "metadata": {},
   "source": [
    "## 3. Write a Python program to split and join a string?"
   ]
  },
  {
   "cell_type": "code",
   "execution_count": 21,
   "id": "ec7e6026",
   "metadata": {},
   "outputs": [
    {
     "name": "stdout",
     "output_type": "stream",
     "text": [
      "Enter a string:hi my name is shikha\n",
      "['hi', 'my', 'name', 'is', 'shikha']\n",
      "hi-my-name-is-shikha\n"
     ]
    }
   ],
   "source": [
    "my_string=input(\"Enter a string:\")\n",
    "words=my_string.split(\" \")\n",
    "print(words)\n",
    "string=\"\"\n",
    "for i in words:\n",
    "    string='-'.join(words)\n",
    "    \n",
    "print(string)"
   ]
  },
  {
   "cell_type": "markdown",
   "id": "2f77a2cc",
   "metadata": {},
   "source": [
    "## 4. Write a Python to check if a given string is binary string or not?"
   ]
  },
  {
   "cell_type": "code",
   "execution_count": 34,
   "id": "4140a607",
   "metadata": {},
   "outputs": [
    {
     "name": "stdout",
     "output_type": "stream",
     "text": [
      "Enter a binary string or not a binary string:123460\n",
      "string is not binary\n"
     ]
    }
   ],
   "source": [
    "#method 1\n",
    "b=input(\"Enter a binary string or not a binary string:\")\n",
    "\n",
    "flag=0\n",
    "for i in b:\n",
    "    if i !='1' and i !='0':\n",
    "        flag=1\n",
    "        break      \n",
    "if flag==0:\n",
    "    print(\"string is binary\")\n",
    "else:\n",
    "    print(\"string is not binary\")"
   ]
  },
  {
   "cell_type": "code",
   "execution_count": 39,
   "id": "9138beff",
   "metadata": {},
   "outputs": [
    {
     "name": "stdout",
     "output_type": "stream",
     "text": [
      "Enter a binary string:15267\n",
      "string is not binary\n"
     ]
    }
   ],
   "source": [
    "# method 2\n",
    "b=input(\"Enter a binary string:\")\n",
    "other_char=[\"2\",\"3\",\"4\",\"5\",\"6\",\"7\",\"8\",\"9\"]\n",
    "for i in b:\n",
    "    if i in other_char:\n",
    "        print(\"string is not binary\")\n",
    "        break\n",
    "else:\n",
    "    print(\"string is binary\")\n"
   ]
  },
  {
   "cell_type": "markdown",
   "id": "e71f871c",
   "metadata": {},
   "source": [
    "## 5. Write a Python program to find uncommon words from two Strings?"
   ]
  },
  {
   "cell_type": "code",
   "execution_count": 26,
   "id": "dccf8196",
   "metadata": {},
   "outputs": [
    {
     "name": "stdout",
     "output_type": "stream",
     "text": [
      "Enter string1:hi welcome\n",
      "Enter string2:hi unwelcome\n",
      "{'hi'}\n"
     ]
    }
   ],
   "source": [
    "string1=input(\"Enter string1:\")\n",
    "string2=input(\"Enter string2:\")\n",
    "#print(set(string1.split()))\n",
    "print(set(string1.split()) ^ set(string2.split()))"
   ]
  },
  {
   "cell_type": "markdown",
   "id": "887cfbff",
   "metadata": {},
   "source": [
    "## 6. Write a Python to find all duplicate characters in string?\n"
   ]
  },
  {
   "cell_type": "code",
   "execution_count": 1,
   "id": "0d822f39",
   "metadata": {},
   "outputs": [
    {
     "name": "stdout",
     "output_type": "stream",
     "text": [
      "[' ', 'o', 'p', 'n', 'r', 'g', 'm']\n"
     ]
    }
   ],
   "source": [
    "my_string=\"I love python programming\"\n",
    "duplicate_list=list()\n",
    "for i in my_string:\n",
    "    if my_string.count(i)>1:\n",
    "        if i not in duplicate_list:\n",
    "            duplicate_list.append(i)\n",
    "print(duplicate_list)"
   ]
  },
  {
   "cell_type": "markdown",
   "id": "dba557ae",
   "metadata": {},
   "source": [
    "## 7. Write a Python Program to check if a string contains any special character?"
   ]
  },
  {
   "cell_type": "code",
   "execution_count": 36,
   "id": "9fdbf391",
   "metadata": {},
   "outputs": [
    {
     "name": "stdout",
     "output_type": "stream",
     "text": [
      "Enter a string:shikha\n",
      "Does not contain any special character\n"
     ]
    }
   ],
   "source": [
    "my_string=input(\"Enter a string:\")\n",
    "\n",
    "special_char=[\"!\",\"@\",\"#\",\"$\",\"%\",\"^\",\"&\",\"*\"]\n",
    "for i in my_string:\n",
    "    if i in special_char:\n",
    "        print(\"Yes, it contains special character\")\n",
    "        break\n",
    "else:\n",
    "    print(\"Does not contain any special character\")\n"
   ]
  },
  {
   "cell_type": "code",
   "execution_count": null,
   "id": "27ba66ed",
   "metadata": {},
   "outputs": [],
   "source": []
  }
 ],
 "metadata": {
  "kernelspec": {
   "display_name": "Python 3 (ipykernel)",
   "language": "python",
   "name": "python3"
  },
  "language_info": {
   "codemirror_mode": {
    "name": "ipython",
    "version": 3
   },
   "file_extension": ".py",
   "mimetype": "text/x-python",
   "name": "python",
   "nbconvert_exporter": "python",
   "pygments_lexer": "ipython3",
   "version": "3.9.7"
  }
 },
 "nbformat": 4,
 "nbformat_minor": 5
}
